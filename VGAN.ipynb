{
 "cells": [
  {
   "cell_type": "code",
   "execution_count": 54,
   "metadata": {},
   "outputs": [
    {
     "name": "stdout",
     "output_type": "stream",
     "text": [
      "PyTorch version: 1.0.0\n",
      "torchvision version: 0.2.1\n",
      "Is GPU available: True\n"
     ]
    }
   ],
   "source": [
    "import numpy as np\n",
    "import matplotlib.pyplot as plt\n",
    "import os\n",
    "from PIL import Image\n",
    "\n",
    "import torch\n",
    "from torch import nn, optim\n",
    "from torch.nn import functional as F\n",
    "from torch.utils.data import TensorDataset, DataLoader\n",
    "\n",
    "import torchvision\n",
    "from torchvision import transforms\n",
    "from torchvision.utils import make_grid, save_image\n",
    "\n",
    "print('PyTorch version:', torch.__version__)\n",
    "print('torchvision version:', torchvision.__version__)\n",
    "use_gpu = torch.cuda.is_available()\n",
    "print('Is GPU available:', use_gpu)"
   ]
  },
  {
   "cell_type": "code",
   "execution_count": 55,
   "metadata": {},
   "outputs": [],
   "source": [
    "# general settings\n",
    "device = torch.device('cuda' if use_gpu else 'cpu')\n",
    "\n",
    "batchsize = 64\n",
    "\n",
    "data_dir = '../../data/CelebA/celeba-64x64-images-npy/'\n",
    "\n",
    "output_dir = '../../data/CelebA/celeba-64x64-outputs_VGAN/'\n",
    "if not os.path.exists(output_dir):\n",
    "    os.mkdir(output_dir)\n",
    "    \n",
    "save_dir = '../../data/CelebA/celeba-64x64-save/'\n",
    "if not os.path.exists(save_dir):\n",
    "    os.mkdir(save_dir)"
   ]
  },
  {
   "cell_type": "code",
   "execution_count": 56,
   "metadata": {},
   "outputs": [],
   "source": [
    "files = os.listdir(data_dir)\n",
    "for i, f in enumerate(files):\n",
    "    if i == 0:\n",
    "        train_images = np.load(data_dir + f)\n",
    "    else:\n",
    "        train_images = np.concatenate((train_images, np.load(data_dir + f)))\n",
    "train_images = np.transpose(train_images, [0, 3, 1, 2])"
   ]
  },
  {
   "cell_type": "code",
   "execution_count": 57,
   "metadata": {},
   "outputs": [],
   "source": [
    "train_loader = DataLoader((torch.from_numpy(train_images).float() - 127.5) / 127.5, batch_size=batchsize, shuffle=True)"
   ]
  },
  {
   "cell_type": "code",
   "execution_count": 58,
   "metadata": {},
   "outputs": [],
   "source": [
    "def weights_init(m):\n",
    "    classname = m.__class__.__name__\n",
    "    if classname.find('Conv') != -1:\n",
    "        m.weight.data.normal_(0.0, 0.02)\n",
    "    elif classname.find('BatchNorm') != -1:\n",
    "        m.weight.data.normal_(1.0, 0.02)\n",
    "        m.bias.data.fill_(0)"
   ]
  },
  {
   "cell_type": "code",
   "execution_count": 59,
   "metadata": {},
   "outputs": [],
   "source": [
    "class Generator(nn.Module):\n",
    "    def __init__(self, nz, nglf):\n",
    "        super(Generator, self).__init__()\n",
    "        self.ct1 = nn.ConvTranspose2d(nz, nglf*8, kernel_size=4, stride=1, padding=0, bias=False)\n",
    "        self.bn1 = nn.BatchNorm2d(nglf*8)\n",
    "        self.rl1 = nn.ReLU(inplace=True)\n",
    "        \n",
    "        self.ct2 = nn.ConvTranspose2d(nglf*8, nglf*4, kernel_size=4, stride=2, padding=1, bias=False)\n",
    "        self.bn2 = nn.BatchNorm2d(nglf*4)\n",
    "        self.rl2 = nn.ReLU(inplace=True)\n",
    "        \n",
    "        self.ct3 = nn.ConvTranspose2d(nglf*4, nglf*2, kernel_size=4, stride=2, padding=1, bias=False)\n",
    "        self.bn3 = nn.BatchNorm2d(nglf*2)\n",
    "        self.rl3 = nn.ReLU(inplace=True)\n",
    "        \n",
    "        self.ct4 = nn.ConvTranspose2d(nglf*2, nglf, kernel_size=4, stride=2, padding=1, bias=False)\n",
    "        self.bn4 = nn.BatchNorm2d(nglf)\n",
    "        self.rl4 = nn.ReLU(inplace=True)\n",
    "        \n",
    "        self.ct5 = nn.ConvTranspose2d(nglf, 3, kernel_size=4, stride=2, padding=1, bias=False)\n",
    "        self.th5 = nn.Tanh()\n",
    "        \n",
    "    def forward(self, z):\n",
    "        out = self.rl1(self.bn1(self.ct1(z)))\n",
    "        out = self.rl2(self.bn2(self.ct2(out)))\n",
    "        out = self.rl3(self.bn3(self.ct3(out)))\n",
    "        out = self.rl4(self.bn4(self.ct4(out)))\n",
    "        out = self.th5(self.ct5(out))\n",
    "        return out"
   ]
  },
  {
   "cell_type": "code",
   "execution_count": 99,
   "metadata": {},
   "outputs": [],
   "source": [
    "class Discriminator(nn.Module):\n",
    "    def __init__(self, ndff, n_embed_dim):\n",
    "        super(Discriminator, self).__init__()\n",
    "        self.n_embed_dim = n_embed_dim\n",
    "        \n",
    "        self.cv1 = nn.Conv2d(3, ndff, 4, 2, 1, bias=False)\n",
    "        self.lr1 = nn.LeakyReLU(0.2, inplace=True)\n",
    "        \n",
    "        self.cv2 = nn.Conv2d(ndff, ndff*2, 4, 2, 1, bias=False)\n",
    "        self.bn2 = nn.BatchNorm2d(ndff*2)\n",
    "        self.lr2 = nn.LeakyReLU(0.2, inplace=True)\n",
    "        \n",
    "        self.cv3 = nn.Conv2d(ndff*2, ndff*4, 4, 2, 1, bias=False)\n",
    "        self.bn3 = nn.BatchNorm2d(ndff*4)\n",
    "        self.lr3 = nn.LeakyReLU(0.2, inplace=True)\n",
    "        \n",
    "        self.cv4 = nn.Conv2d(ndff*4, ndff*8, 4, 2, 1, bias=False)\n",
    "        self.bn4 = nn.BatchNorm2d(ndff*8)\n",
    "        self.lr4 = nn.LeakyReLU(0.2, inplace=True)\n",
    "        \n",
    "        self.cv5 = nn.Conv2d(ndff*8, n_embed_dim*2, 4, 1, 0, bias=False)\n",
    "        \n",
    "        self.fc6 = nn.Linear(n_embed_dim, 1)\n",
    "        self.sg6 = nn.Sigmoid()\n",
    "        \n",
    "    def forward(self, x, mean_mode=False):\n",
    "        out = self.lr1(self.cv1(x))\n",
    "        out = self.lr2(self.bn2(self.cv2(out)))\n",
    "        out = self.lr3(self.bn3(self.cv3(out)))\n",
    "        out = self.lr4(self.bn4(self.cv4(out)))\n",
    "        out = self.cv5(out)\n",
    "        \n",
    "        out = out.view(out.size(0), -1)\n",
    "        mean = out[:, :self.n_embed_dim]\n",
    "        logvar = out[:, self.n_embed_dim:]\n",
    "        if mean_mode:\n",
    "            out = self.sg6(self.fc6(mean))\n",
    "            return out\n",
    "        else:    \n",
    "            z = torch.randn(mean.size(), device=device)\n",
    "            out = (0.5 * logvar).exp() * z + mean\n",
    "            out = self.sg6(self.fc6(out))\n",
    "            return out, mean, logvar"
   ]
  },
  {
   "cell_type": "code",
   "execution_count": 104,
   "metadata": {},
   "outputs": [],
   "source": [
    "nz = 100\n",
    "netG = Generator(nz, 64).to(device)\n",
    "netD = Discriminator(64, 100).to(device)\n",
    "\n",
    "netG.apply(weights_init)\n",
    "netD.apply(weights_init)\n",
    "\n",
    "learning_rate = 0.0002\n",
    "optimizerG = optim.Adam(netG.parameters(), lr=learning_rate, betas=(0.5, 0.999))\n",
    "optimizerD = optim.Adam(netD.parameters(), lr=learning_rate, betas=(0.5, 0.999))\n",
    "\n",
    "I_c = 0.5\n",
    "def VDB_loss(out, label, mean, logvar, beta):\n",
    "    normal_D_loss = F.binary_cross_entropy(out, label)\n",
    "    kldiv_loss = -0.5 * torch.sum(1 + logvar - mean.pow(2) - logvar.exp())\n",
    "    kldiv_loss = kldiv_loss / out.size(0) - I_c\n",
    "    final_loss = normal_D_loss + beta * kldiv_loss\n",
    "    return final_loss, kldiv_loss.detach()\n",
    "\n",
    "criterionG = nn.BCELoss()\n",
    "criterionD = VDB_loss"
   ]
  },
  {
   "cell_type": "code",
   "execution_count": 105,
   "metadata": {},
   "outputs": [],
   "source": [
    "real_label = 1\n",
    "fake_label = 0\n",
    "\n",
    "beta = 1.0\n",
    "alpha = 1e-5\n",
    "\n",
    "save_image_interval = 1\n",
    "n_save_image = 25"
   ]
  },
  {
   "cell_type": "code",
   "execution_count": 106,
   "metadata": {},
   "outputs": [],
   "source": [
    "def train(train_loader, epoch, beta):\n",
    "    netG.train()\n",
    "    netD.train()\n",
    "    \n",
    "    running_D_loss = 0\n",
    "    running_G_loss = 0\n",
    "    \n",
    "    for real_image in train_loader:\n",
    "        # prepare for D learning with real image\n",
    "        optimizerD.zero_grad()\n",
    "        real_image = real_image.to(device)\n",
    "        batch_size = real_image.size(0)\n",
    "        label = torch.full((batch_size,), real_label, device=device)\n",
    "        \n",
    "        # train D with real image\n",
    "        output, mean, logvar = netD(real_image)\n",
    "        loss_D_real, loss_kldiv_real = criterionD(output, label, mean, logvar, beta)\n",
    "        loss_D_real.backward()\n",
    "        running_D_loss += loss_D_real.item()\n",
    "        \n",
    "        # prepare for D learning with fake image\n",
    "        input_noise = torch.randn(batch_size, nz, 1, 1, device=device)\n",
    "        fake_image = netG(input_noise)\n",
    "        label.fill_(fake_label)\n",
    "        \n",
    "        # train D with fake image\n",
    "        output, mean, logvar = netD(fake_image.detach())\n",
    "        loss_D_fake, loss_kldiv_fake = criterionD(output, label, mean, logvar, beta)\n",
    "        loss_D_fake.backward()\n",
    "        running_D_loss += loss_D_fake.item()\n",
    "        \n",
    "        optimizerD.step()\n",
    "        \n",
    "        loss_kldiv = loss_kldiv_real.item() + loss_kldiv_fake.item()\n",
    "        beta = max(0.0, beta + alpha * loss_kldiv)\n",
    "        \n",
    "        # prepare for G learning\n",
    "        optimizerG.zero_grad()\n",
    "        label.fill_(real_label)\n",
    "        \n",
    "        # train G\n",
    "        output, _, _ = netD(fake_image, mean_mode=False)\n",
    "        loss_G = criterionG(output, label)\n",
    "        loss_G.backward()\n",
    "        running_G_loss += loss_G.item()\n",
    "        \n",
    "        optimizerG.step()\n",
    "        \n",
    "    if epoch % save_image_interval == 0:\n",
    "        save_image(fake_image[:n_save_image], output_dir + 'generated_images_%d.png' % (epoch), nrow=5, normalize=True)\n",
    "    \n",
    "    \n",
    "    average_D_loss = running_D_loss / len(train_loader)\n",
    "    average_G_loss = running_G_loss / len(train_loader)\n",
    "    return average_D_loss, average_G_loss, beta"
   ]
  },
  {
   "cell_type": "code",
   "execution_count": 107,
   "metadata": {
    "scrolled": true
   },
   "outputs": [
    {
     "name": "stderr",
     "output_type": "stream",
     "text": [
      "/home/kaito/.local/lib/python3.5/site-packages/torch/nn/functional.py:2016: UserWarning: Using a target size (torch.Size([64])) that is different to the input size (torch.Size([64, 1])) is deprecated. Please ensure they have the same size.\n",
      "  \"Please ensure they have the same size.\".format(target.size(), input.size()))\n",
      "/home/kaito/.local/lib/python3.5/site-packages/torch/nn/functional.py:2016: UserWarning: Using a target size (torch.Size([48])) that is different to the input size (torch.Size([48, 1])) is deprecated. Please ensure they have the same size.\n",
      "  \"Please ensure they have the same size.\".format(target.size(), input.size()))\n"
     ]
    },
    {
     "name": "stdout",
     "output_type": "stream",
     "text": [
      "epoch[1/100] D_loss:13.6220 G_loss:0.8584 Beta:1.0547\n",
      "epoch[2/100] D_loss:2.4249 G_loss:0.6808 Beta:1.0591\n",
      "epoch[3/100] D_loss:2.2798 G_loss:0.6880 Beta:1.0630\n"
     ]
    },
    {
     "ename": "KeyboardInterrupt",
     "evalue": "",
     "output_type": "error",
     "traceback": [
      "\u001b[0;31m---------------------------------------------------------------------------\u001b[0m",
      "\u001b[0;31mKeyboardInterrupt\u001b[0m                         Traceback (most recent call last)",
      "\u001b[0;32m<ipython-input-107-0ab0c9f2f081>\u001b[0m in \u001b[0;36m<module>\u001b[0;34m()\u001b[0m\n\u001b[1;32m      3\u001b[0m \u001b[0mn_epochs\u001b[0m \u001b[0;34m=\u001b[0m \u001b[0;36m100\u001b[0m\u001b[0;34m\u001b[0m\u001b[0m\n\u001b[1;32m      4\u001b[0m \u001b[0;32mfor\u001b[0m \u001b[0mepoch\u001b[0m \u001b[0;32min\u001b[0m \u001b[0mrange\u001b[0m\u001b[0;34m(\u001b[0m\u001b[0mn_epochs\u001b[0m\u001b[0;34m)\u001b[0m\u001b[0;34m:\u001b[0m\u001b[0;34m\u001b[0m\u001b[0m\n\u001b[0;32m----> 5\u001b[0;31m     \u001b[0mD_loss\u001b[0m\u001b[0;34m,\u001b[0m \u001b[0mG_loss\u001b[0m\u001b[0;34m,\u001b[0m \u001b[0mbeta\u001b[0m \u001b[0;34m=\u001b[0m \u001b[0mtrain\u001b[0m\u001b[0;34m(\u001b[0m\u001b[0mtrain_loader\u001b[0m\u001b[0;34m,\u001b[0m \u001b[0mepoch\u001b[0m\u001b[0;34m,\u001b[0m \u001b[0mbeta\u001b[0m\u001b[0;34m)\u001b[0m\u001b[0;34m\u001b[0m\u001b[0m\n\u001b[0m\u001b[1;32m      6\u001b[0m     \u001b[0mprint\u001b[0m\u001b[0;34m(\u001b[0m\u001b[0;34m'epoch[%d/%d] D_loss:%1.4f G_loss:%1.4f Beta:%1.4f'\u001b[0m \u001b[0;34m%\u001b[0m \u001b[0;34m(\u001b[0m\u001b[0mepoch\u001b[0m\u001b[0;34m+\u001b[0m\u001b[0;36m1\u001b[0m\u001b[0;34m,\u001b[0m \u001b[0mn_epochs\u001b[0m\u001b[0;34m,\u001b[0m \u001b[0mD_loss\u001b[0m\u001b[0;34m,\u001b[0m \u001b[0mG_loss\u001b[0m\u001b[0;34m,\u001b[0m \u001b[0mbeta\u001b[0m\u001b[0;34m)\u001b[0m\u001b[0;34m)\u001b[0m\u001b[0;34m\u001b[0m\u001b[0m\n\u001b[1;32m      7\u001b[0m     \u001b[0mD_loss_list\u001b[0m\u001b[0;34m.\u001b[0m\u001b[0mappend\u001b[0m\u001b[0;34m(\u001b[0m\u001b[0mD_loss\u001b[0m\u001b[0;34m)\u001b[0m\u001b[0;34m\u001b[0m\u001b[0m\n",
      "\u001b[0;32m<ipython-input-106-ddbc2b26a169>\u001b[0m in \u001b[0;36mtrain\u001b[0;34m(train_loader, epoch, beta)\u001b[0m\n\u001b[1;32m     43\u001b[0m         \u001b[0mloss_G\u001b[0m \u001b[0;34m=\u001b[0m \u001b[0mcriterionG\u001b[0m\u001b[0;34m(\u001b[0m\u001b[0moutput\u001b[0m\u001b[0;34m,\u001b[0m \u001b[0mlabel\u001b[0m\u001b[0;34m)\u001b[0m\u001b[0;34m\u001b[0m\u001b[0m\n\u001b[1;32m     44\u001b[0m         \u001b[0mloss_G\u001b[0m\u001b[0;34m.\u001b[0m\u001b[0mbackward\u001b[0m\u001b[0;34m(\u001b[0m\u001b[0;34m)\u001b[0m\u001b[0;34m\u001b[0m\u001b[0m\n\u001b[0;32m---> 45\u001b[0;31m         \u001b[0mrunning_G_loss\u001b[0m \u001b[0;34m+=\u001b[0m \u001b[0mloss_G\u001b[0m\u001b[0;34m.\u001b[0m\u001b[0mitem\u001b[0m\u001b[0;34m(\u001b[0m\u001b[0;34m)\u001b[0m\u001b[0;34m\u001b[0m\u001b[0m\n\u001b[0m\u001b[1;32m     46\u001b[0m \u001b[0;34m\u001b[0m\u001b[0m\n\u001b[1;32m     47\u001b[0m         \u001b[0moptimizerG\u001b[0m\u001b[0;34m.\u001b[0m\u001b[0mstep\u001b[0m\u001b[0;34m(\u001b[0m\u001b[0;34m)\u001b[0m\u001b[0;34m\u001b[0m\u001b[0m\n",
      "\u001b[0;31mKeyboardInterrupt\u001b[0m: "
     ]
    }
   ],
   "source": [
    "D_loss_list = []\n",
    "G_loss_list = []\n",
    "n_epochs = 100\n",
    "for epoch in range(n_epochs):\n",
    "    D_loss, G_loss, beta = train(train_loader, epoch, beta)\n",
    "    print('epoch[%d/%d] D_loss:%1.4f G_loss:%1.4f Beta:%1.4f' % (epoch+1, n_epochs, D_loss, G_loss, beta))\n",
    "    D_loss_list.append(D_loss)\n",
    "    G_loss_list.append(G_loss)"
   ]
  },
  {
   "cell_type": "code",
   "execution_count": null,
   "metadata": {},
   "outputs": [],
   "source": []
  }
 ],
 "metadata": {
  "kernelspec": {
   "display_name": "Python 3",
   "language": "python",
   "name": "python3"
  },
  "language_info": {
   "codemirror_mode": {
    "name": "ipython",
    "version": 3
   },
   "file_extension": ".py",
   "mimetype": "text/x-python",
   "name": "python",
   "nbconvert_exporter": "python",
   "pygments_lexer": "ipython3",
   "version": "3.5.2"
  }
 },
 "nbformat": 4,
 "nbformat_minor": 2
}
